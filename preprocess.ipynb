{
 "cells": [
  {
   "cell_type": "code",
   "execution_count": 1,
   "metadata": {},
   "outputs": [],
   "source": [
    "import os\n",
    "\n",
    "import numpy as np\n",
    "\n",
    "from PIL import Image"
   ]
  },
  {
   "cell_type": "code",
   "execution_count": 14,
   "metadata": {},
   "outputs": [],
   "source": [
    "def resize_and_save(path, target_dir):\n",
    "    filename = os.path.basename(path)\n",
    "    target = os.path.join(target_dir, filename)\n",
    "    \n",
    "    try:\n",
    "        img = Image.open(path)\n",
    "        img = img.resize((608, 608))\n",
    "        \n",
    "        img.save(target)\n",
    "    except e:\n",
    "        print(\"discarded \", filename)"
   ]
  },
  {
   "cell_type": "code",
   "execution_count": 32,
   "metadata": {},
   "outputs": [],
   "source": [
    "def calc_thumbnail_size(img):\n",
    "    \"\"\"calculate thumbnail size with constant aspect ratio\"\"\"\n",
    "    width, length = img.size\n",
    "    ratio = width / length\n",
    "    \n",
    "    # for some reason, if it's exactly 256, then thumnailed image is 255\n",
    "    dim = 416 + 1          # output dim\n",
    "    if ratio > 1:\n",
    "        size = (dim * ratio, dim)\n",
    "    else:\n",
    "        size = (dim, dim / ratio)\n",
    "\n",
    "    return size\n",
    "\n",
    "def calc_crop_coords(img):\n",
    "    \"\"\"crop to square of desired dimension size\"\"\"\n",
    "    dim = 416\n",
    "    width, length = img.size\n",
    "    left = 0\n",
    "    right = width\n",
    "    bottom = length\n",
    "    top = 0\n",
    "    if width > dim:\n",
    "        delta = (width - dim) / 2\n",
    "        left = delta\n",
    "        right = width - delta\n",
    "    if length > dim:\n",
    "        delta = (length - dim) / 2\n",
    "        top = delta\n",
    "        bottom = length - delta\n",
    "    return (left, top, right, bottom)\n",
    "\n",
    "def crop_and_resize_image(image):\n",
    "    tsize = calc_thumbnail_size(image)\n",
    "    image.thumbnail(tsize)\n",
    "    crop_coords = calc_crop_coords(image)\n",
    "    image = image.crop(crop_coords)\n",
    "    return image"
   ]
  },
  {
   "cell_type": "code",
   "execution_count": 30,
   "metadata": {},
   "outputs": [],
   "source": [
    "src_dir = './dataset/JPEGImages'\n",
    "target_dir = './dataset/resized_416'"
   ]
  },
  {
   "cell_type": "code",
   "execution_count": 31,
   "metadata": {},
   "outputs": [],
   "source": [
    "if not os.path.exists(target_dir):\n",
    "    os.mkdir(target_dir)"
   ]
  },
  {
   "cell_type": "code",
   "execution_count": 33,
   "metadata": {},
   "outputs": [],
   "source": [
    "for img in os.listdir(src_dir):\n",
    "    path = os.path.join(src_dir, img)\n",
    "    target = os.path.join(target_dir, img)\n",
    "    \n",
    "    img = Image.open(path)\n",
    "    img_thumb = crop_and_resize_image(img)\n",
    "    \n",
    "    if img_thumb.size == (416, 416):\n",
    "        img_thumb.save(target)\n",
    "    else:\n",
    "        img = img.resize((416, 416))\n",
    "        img.save(target)\n",
    "#     resize_and_save(path, target_dir)"
   ]
  }
 ],
 "metadata": {
  "kernelspec": {
   "display_name": "Python 3",
   "language": "python",
   "name": "python3"
  },
  "language_info": {
   "codemirror_mode": {
    "name": "ipython",
    "version": 3
   },
   "file_extension": ".py",
   "mimetype": "text/x-python",
   "name": "python",
   "nbconvert_exporter": "python",
   "pygments_lexer": "ipython3",
   "version": "3.6.8"
  }
 },
 "nbformat": 4,
 "nbformat_minor": 2
}
